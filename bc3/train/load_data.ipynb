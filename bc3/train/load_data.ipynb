{
 "cells": [
  {
   "cell_type": "code",
   "execution_count": 1,
   "metadata": {},
   "outputs": [
    {
     "name": "stderr",
     "output_type": "stream",
     "text": [
      "/data/miniconda/envs/torch/lib/python3.10/site-packages/tqdm/auto.py:21: TqdmWarning: IProgress not found. Please update jupyter and ipywidgets. See https://ipywidgets.readthedocs.io/en/stable/user_install.html\n",
      "  from .autonotebook import tqdm as notebook_tqdm\n",
      "Setting num_proc from 6 back to 1 for the train split to disable multiprocessing as it only contains one shard.\n",
      "Generating train split: 37538 examples [00:02, 17507.62 examples/s]"
     ]
    },
    {
     "name": "stdout",
     "output_type": "stream",
     "text": [
      "Dataset({\n",
      "    features: ['text', 'id', 'dump', 'url', 'file_path', 'language', 'language_score', 'token_count', 'score', 'int_score', 'doubao', 'chunk', 'check'],\n",
      "    num_rows: 37538\n",
      "})\n"
     ]
    },
    {
     "name": "stderr",
     "output_type": "stream",
     "text": [
      "\n"
     ]
    }
   ],
   "source": [
    "from datasets import load_dataset,Dataset\n",
    "START_SYM=\"<--start-->\"\n",
    "# use name=\"sample-10BT\" to use the 10BT sample\n",
    "# fw = load_dataset(\"/data/bert-chunker-v2/dataset/fineweb\", name=\"sample/10BT\", split=\"train\", streaming=True)\n",
    "# data_files = [\"000_00000.parquet\",\"001_00000.parquet\",\"002_00000.parquet\",]\n",
    "data_files = [\"para4000_cut.parquet\",]\n",
    "\n",
    "# fw = load_dataset(\"/data/bert-chunker-v2/dataset/fineweb/sample/10BT\", data_files=data_files,split=\"train\",num_proc=6,cache_dir='/data/bert-chunker-v2/dataset/cache')\n",
    "# fw = load_dataset(\"/data/bert-chunker-v2/dataset/fineweb/sample/10BT\",split=\"train\",num_proc=6,cache_dir='/data/bert-chunker-v2/dataset/cache')\n",
    "fw = load_dataset(\"/data/bert-chunker-v2/dataset/doubao_responses\", data_files=data_files,split=\"train\",num_proc=6,cache_dir='/data/bert-chunker-v2/dataset/cache')\n",
    "\n",
    "print(fw)\n"
   ]
  },
  {
   "cell_type": "code",
   "execution_count": 5,
   "metadata": {},
   "outputs": [
    {
     "name": "stdout",
     "output_type": "stream",
     "text": [
      "Taking Play Seriously\n",
      "By ROBIN MARANTZ HENIG\n",
      "Published: February 17, 2008\n",
      "On a drizzly Tuesday night in late January, 200 people came out to hear a psychiatrist talk rhapsodically about play -- not just the intense, joyous play of children, but play for all people, at all ages, at all times. (All species too; the lecture featured touching photos of a polar bear and a husky engaging playfully at a snowy outpost in northern Canada.) Stuart Brown, president of the National Institute for Play, was speaking at the New York Public Library's main branch on 42nd Street. He created the institute in 1996, after more than 20 years of psychiatric practice and research persuaded him of the dangerous long-term consequences of play deprivation. In a sold-out talk at the library, he and Krista Tippett, host of the public-radio program ''Speaking of Faith,'' discussed the biological and spiritual underpinnings of play. Brown called play part of the ''developmental sequencing of becoming a human primate. If you look at what produces learning and memory and well-being, play is as fundamental as any other aspect of life, including sleep and dreams.''\n",
      "<--start-->The message seemed to resonate with audience members, who asked anxious questions about what seemed to be the loss of play in their children's lives. Their concern came, no doubt, from the recent deluge of eulogies to play . Educators fret that school officials are hacking away at recess to make room for an increasingly crammed curriculum. Psychologists complain that overscheduled kids have no time left for the real business of childhood: idle, creative, unstructured free play. Public health officials link insufficient playtime to a rise in childhood obesity. Parents bemoan the fact that kids don't play the way they themselves did -- or think they did. And everyone seems to worry that without the chance to play stickball or hopscotch out on the street, to play with dolls on the kitchen floor or climb trees in the woods, today's children are missing out on something essential.\n",
      "<--start-->The success of ''The Dangerous Book for Boys'' -- which has been on the best-seller list for the last nine months -- and its step-by-step instructions for activities like folding paper airplanes is testament to the generalized longing for play's good old days. So were the questions after Stuart Brown's library talk; one woman asked how her children will learn trust, empathy and social skills when their most frequent playing is done online. Brown told her that while video games do have some play value, a true sense of ''interpersonal nuance'' can be achieved only by a child who is engaging all five senses by playing in the three-dimensional world.\n",
      "<--start-->This is part of a larger conversation Americans are having about play. Parents bobble between a nostalgia-infused yearning for their children to play and fear that time spent playing is time lost to more practical pursuits. Alarming headlines about U.S. students falling behind other countries in science and math, combined with the ever-more-intense competition to get kids into college, make parents rush to sign up their children for piano lessons and test-prep courses instead of just leaving them to improvise on their own; playtime versus r?m?uilding.\n",
      "Discussions about play force us to reckon with our underlying ideas about childhood, sex differences, creativity and success. Do boys play differently than girls? Are children being damaged by staring at computer screens and video games? Are they missing something when fantasy play is populated with characters from Hollywood's imagination and not their own? Most of these issues are too vast to be addressed by a single field of study (let alone a magazine article). But the growing science of play does have much to add to the conversation. Armed with research grounded in evolutionary biology and experimental neuroscience, some scientists have shown themselves eager -- at times perhaps a little too eager -- to promote a scientific argument for play. They have spent the past few decades learning how and why play evolved in animals, generating insights that can inform our understanding of its evolution in humans too. They are studying, from an evolutionary perspective, to what extent play is a luxury that can be dispensed with when there are too many other competing claims on the growing brain, and to what extent it is central to how that brain grows in the first place.\n",
      "<--start-->Scientists who study play, in animals and humans alike, are developing a consensus view that play is something more than a way for restless kids to work off steam; more than a way for chubby kids to burn off calories; more than a frivolous luxury. Play, in their view, is a central part of neurological growth and development -- one important way that children build complex, skilled, responsive, socially adept and cognitively flexible brains.\n",
      "<--start-->Their work still leaves some questions unanswered, including questions about play's darker, more ambiguous side: is there really an evolutionary or developmental need for dangerous games, say, or for the meanness and hurt feelings that seem to attend so much child's play? Answering these and other questions could help us understand what might be lost if children play less.\n"
     ]
    }
   ],
   "source": [
    "\n",
    "print(fw[1]['chunk'])\n",
    "\n"
   ]
  },
  {
   "cell_type": "code",
   "execution_count": 3,
   "metadata": {},
   "outputs": [
    {
     "name": "stderr",
     "output_type": "stream",
     "text": [
      "Filter (num_proc=6):   0%|          | 0/155598 [00:00<?, ? examples/s]"
     ]
    },
    {
     "name": "stderr",
     "output_type": "stream",
     "text": [
      "Filter (num_proc=6): 100%|██████████| 155598/155598 [00:00<00:00, 528482.63 examples/s]"
     ]
    },
    {
     "name": "stdout",
     "output_type": "stream",
     "text": [
      "Dataset({\n",
      "    features: ['input'],\n",
      "    num_rows: 10\n",
      "})\n",
      "Deeds is a tool, specifically designed for educational applications, for design and simulation of digital systems based on combinational and sequential blocks, finite state machines and microcomputers. Deeds is characterized by an extremely simple user interface and it is associated with a large repository of application projects, available on the web. The paper presents a newly developed feature of Deeds, conceived for introducing FPGA-based systems in a first course of digital design based on Deeds. This extension allows students to compile a project into an FPGA chip directly from Deeds, leaving in the background the operations performed by the FPGA specific EDA tool. The main advantage is a smoother transition between Deeds and a professional design environment.<--start--> Top Available Seniors at TOC Quarters\n",
      "Tuesday night in Toms River the four sectional public school champs played a doubleheader in the Tournament of Champions quarterfinals.As we always do on NJHoops.com we write about the seniors firs...\n",
      "Subscribe today to read the full article and get everything Rivals has to offer.\n",
      "- Member-only message boards\n",
      "- Exclusive highlights and recruiting interviews\n",
      "- Exclusive coverage of Rivals Camp Series\n",
      "- Breaking recruiting news<--start--> Want create site? Find Free WordPress Themes and plugins.\n",
      "This is a ghen ghen kinda love ? The lady pictured above drew a tattoo of her lover on her throat! Serious something ?\n",
      "Is this mumuishness, foolishness or love? Can you draw your lover on your neck?\n",
      "Did you find apk for android? You can find new Free Android Games and apps.\n"
     ]
    },
    {
     "name": "stderr",
     "output_type": "stream",
     "text": [
      "\n"
     ]
    }
   ],
   "source": [
    "d = fw.filter(lambda x: 'microcomputer' in x['input'],num_proc=6)\n",
    "print(d)\n",
    "print(d[2]['input'])"
   ]
  },
  {
   "cell_type": "code",
   "execution_count": 16,
   "metadata": {},
   "outputs": [
    {
     "name": "stderr",
     "output_type": "stream",
     "text": [
      "Filter (num_proc=6): 100%|██████████| 3143000/3143000 [00:10<00:00, 311119.23 examples/s]\n"
     ]
    }
   ],
   "source": [
    "# d = fw.filter(lambda x: x[\"text\"].count('\\n')>=2 and x['token_count']<=150,num_proc=6)\n",
    "# d = fw.filter(lambda x:  x['token_count']<=150 and x['token_count']>=50,num_proc=6)\n",
    "d = fw.filter(lambda x:  x['token_count']>250,num_proc=6)\n",
    "\n",
    "# def cut(example):\n",
    "#     example[\"input\"] = example['text']\n",
    "#     return example\n",
    "\n",
    "# # 使用 map 方法批量处理\n",
    "# d = d.map(cut,num_proc=6)\n",
    "# last_100_elements = d[0:10000]\n",
    "\n",
    "# # 形成新的数据集\n",
    "# d = Dataset.from_dict(last_100_elements)\n",
    "# d.to_parquet(\"/data/bert-chunker-v2/dataset/fw-train-onepara.parquet\")\n"
   ]
  },
  {
   "cell_type": "code",
   "execution_count": 14,
   "metadata": {},
   "outputs": [
    {
     "name": "stdout",
     "output_type": "stream",
     "text": [
      "Dataset({\n",
      "    features: ['text', 'id', 'dump', 'url', 'date', 'file_path', 'language', 'language_score', 'token_count'],\n",
      "    num_rows: 29303\n",
      "})\n"
     ]
    }
   ],
   "source": [
    "print(d)"
   ]
  },
  {
   "cell_type": "code",
   "execution_count": 16,
   "metadata": {},
   "outputs": [
    {
     "name": "stdout",
     "output_type": "stream",
     "text": [
      "Employment Lawyers £60,000 - £69,999 jobs in Manchester\n",
      "Broaden your search\n",
      "Refine your search\n",
      "Found 3 Recruitment Consultant jobs\n",
      "This Legal 500 accredited firm prides their success on providing pragmatic and quality legal advice to their wide range of clients nationwide. This we\n",
      "This is a great opportunity to join a highly regarded and entrepreneurial Top 100 law firm.\n",
      "Employment Solicitor - Tier 1 Manchester Firm\n",
      "A well regarded Legal 500 ranked national law firm in Manchester is seeking an employment solicitor (claimant) at senior associate level to join. ...\n",
      "119\n",
      "|Topic Review (Newest First)|\n",
      "|01-17-2007 10:03 AM|\n",
      "Update on Canada's new sewer discharge laws\n",
      "Some time back there was some chatter about Canada's intention of making their waters no discharge zones. It's my recollection that they were going to require a logbook of sorts that tracked inputs and outputs to the holding tank. The main issue was that there really aren't any pumpout facilities to speak of, at least around Desolation Sound, the main cruising area. I think FASTER lives just north of me on the salt chuck. Any new news on what's going on up there?\n",
      "129\n"
     ]
    }
   ],
   "source": [
    "print(d[2]['text'])\n",
    "\n",
    "print(d[2]['token_count'])\n",
    "d = d.shuffle(seed=42)\n",
    "print(d[2]['text'])\n",
    "\n",
    "print(d[2]['token_count'])"
   ]
  },
  {
   "cell_type": "code",
   "execution_count": 17,
   "metadata": {},
   "outputs": [
    {
     "name": "stdout",
     "output_type": "stream",
     "text": [
      "Dataset({\n",
      "    features: ['text', 'id', 'dump', 'url', 'date', 'file_path', 'language', 'language_score', 'token_count'],\n",
      "    num_rows: 40651\n",
      "})\n"
     ]
    }
   ],
   "source": [
    "print(d)"
   ]
  },
  {
   "cell_type": "code",
   "execution_count": 18,
   "metadata": {},
   "outputs": [
    {
     "name": "stderr",
     "output_type": "stream",
     "text": [
      "Map (num_proc=6): 100%|██████████| 40651/40651 [00:01<00:00, 22457.69 examples/s]\n"
     ]
    }
   ],
   "source": [
    "def cut(example):\n",
    "    START_SYM=\"<--start-->\"\n",
    "    example[\"input\"] = example['text']+START_SYM\n",
    "    return example\n",
    "\n",
    "# 使用 map 方法批量处理\n",
    "d = d.map(cut,num_proc=6)\n"
   ]
  },
  {
   "cell_type": "code",
   "execution_count": 19,
   "metadata": {},
   "outputs": [],
   "source": [
    "d = d.remove_columns(['text', 'id', 'dump', 'url', 'date', 'file_path', 'language', 'language_score', 'token_count'])"
   ]
  },
  {
   "cell_type": "code",
   "execution_count": 20,
   "metadata": {},
   "outputs": [
    {
     "name": "stderr",
     "output_type": "stream",
     "text": [
      "Map (num_proc=6):   0%|          | 0/40651 [00:00<?, ? examples/s]"
     ]
    },
    {
     "name": "stderr",
     "output_type": "stream",
     "text": [
      "Map (num_proc=6): 100%|██████████| 40651/40651 [00:00<00:00, 223073.78 examples/s]\n"
     ]
    }
   ],
   "source": [
    "def merge_batch(batch, group_size=3):\n",
    "    START_SYM=\"<--start-->\"\n",
    "    new_data = {\"input\": [],}\n",
    "    for i in range(0, len(batch['input']), group_size):\n",
    "        # 获取当前组的 4 条数据\n",
    "        texts = batch['input'][i:i+group_size]\n",
    "        \n",
    "        # 合并数据\n",
    "        merged_text = ' '.join(texts)\n",
    "        merged_text = merged_text[:-len(START_SYM)]\n",
    "        \n",
    "        # 添加到新数据中\n",
    "        new_data[\"input\"].append(merged_text)\n",
    "    return new_data\n",
    "\n",
    "# 使用 Dataset.map 处理数据\n",
    "new_dataset = d.map(\n",
    "    merge_batch,\n",
    "    batched=True,  # 启用批处理\n",
    "    batch_size=1000,  # 每批次处理 1000 条原始数据\n",
    "    remove_columns=d.column_names,  # 移除原始列\n",
    "    num_proc=6,  # 使用 6 个进程并行处理\n",
    ")"
   ]
  },
  {
   "cell_type": "code",
   "execution_count": 23,
   "metadata": {},
   "outputs": [
    {
     "name": "stdout",
     "output_type": "stream",
     "text": [
      "Dataset({\n",
      "    features: ['input'],\n",
      "    num_rows: 13578\n",
      "})\n"
     ]
    }
   ],
   "source": [
    "print(new_dataset)"
   ]
  },
  {
   "cell_type": "code",
   "execution_count": 24,
   "metadata": {},
   "outputs": [
    {
     "name": "stdout",
     "output_type": "stream",
     "text": [
      "Dataset({\n",
      "    features: ['input'],\n",
      "    num_rows: 10000\n",
      "})\n"
     ]
    }
   ],
   "source": [
    "# 获取最后 100 个元素\n",
    "last_100_elements = new_dataset[-10000:]\n",
    "\n",
    "# 形成新的数据集\n",
    "d = Dataset.from_dict(last_100_elements)\n",
    "print(d)"
   ]
  },
  {
   "cell_type": "code",
   "execution_count": 25,
   "metadata": {},
   "outputs": [
    {
     "name": "stderr",
     "output_type": "stream",
     "text": [
      "Creating parquet from Arrow format: 100%|██████████| 10/10 [00:00<00:00, 101.35ba/s]\n"
     ]
    },
    {
     "data": {
      "text/plain": [
       "14685418"
      ]
     },
     "execution_count": 25,
     "metadata": {},
     "output_type": "execute_result"
    }
   ],
   "source": [
    "d.to_parquet(\"/data/bert-chunker-v2/dataset/fw-test-cross.parquet\")"
   ]
  }
 ],
 "metadata": {
  "kernelspec": {
   "display_name": "torch",
   "language": "python",
   "name": "python3"
  },
  "language_info": {
   "codemirror_mode": {
    "name": "ipython",
    "version": 3
   },
   "file_extension": ".py",
   "mimetype": "text/x-python",
   "name": "python",
   "nbconvert_exporter": "python",
   "pygments_lexer": "ipython3",
   "version": "3.10.15"
  }
 },
 "nbformat": 4,
 "nbformat_minor": 2
}
